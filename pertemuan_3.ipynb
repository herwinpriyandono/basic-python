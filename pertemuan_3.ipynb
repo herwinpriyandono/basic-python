{
 "cells": [
  {
   "cell_type": "code",
   "execution_count": 5,
   "metadata": {},
   "outputs": [
    {
     "name": "stdout",
     "output_type": "stream",
     "text": [
      "1\n",
      "2\n",
      "3\n",
      "4\n",
      "5\n",
      "6\n",
      "Angka 6 ditemukan\n"
     ]
    }
   ],
   "source": [
    "#Break\n",
    "number = [1,2,3,4,5,6,7,8,9,10]\n",
    "for num in number:\n",
    "    print(num)\n",
    "    if num == 6:\n",
    "        print(\"Angka 6 ditemukan\")\n",
    "        break"
   ]
  },
  {
   "cell_type": "code",
   "execution_count": 9,
   "metadata": {},
   "outputs": [
    {
     "name": "stdout",
     "output_type": "stream",
     "text": [
      "1\n",
      "Ada bilangan yg dicuekin\n",
      "3\n",
      "Ada bilangan yg dicuekin\n",
      "5\n",
      "Ada bilangan yg dicuekin\n",
      "7\n",
      "Ada bilangan yg dicuekin\n",
      "9\n",
      "Ada bilangan yg dicuekin\n"
     ]
    }
   ],
   "source": [
    "#Continue\n",
    "number = [1,2,3,4,5,6,7,8,9,10]\n",
    "for num in number:\n",
    "    if num % 2 == 0 :\n",
    "        print(\"Ada bilangan yg dicuekin\")\n",
    "        continue\n",
    "    print(num)"
   ]
  },
  {
   "cell_type": "code",
   "execution_count": 14,
   "metadata": {},
   "outputs": [],
   "source": [
    "#Pass\n",
    "for x in range(1, 10):\n",
    "    pass\n",
    "if 9 < 10: \n",
    "    pass"
   ]
  },
  {
   "cell_type": "markdown",
   "metadata": {},
   "source": [
    "## Function"
   ]
  },
  {
   "cell_type": "code",
   "execution_count": 15,
   "metadata": {},
   "outputs": [
    {
     "name": "stdout",
     "output_type": "stream",
     "text": [
      "Halo, selamat siang!\n",
      "Halo, selamat siang!\n"
     ]
    }
   ],
   "source": [
    "##Mendefinisikan Function\n",
    "def sapa():\n",
    "    print(\"Halo, selamat siang!\")\n",
    "sapa()\n",
    "sapa()"
   ]
  },
  {
   "cell_type": "code",
   "execution_count": 17,
   "metadata": {},
   "outputs": [
    {
     "name": "stdout",
     "output_type": "stream",
     "text": [
      "Hai Rima selamat Pagi !\n",
      "Hai Budi selamat Siang !\n"
     ]
    }
   ],
   "source": [
    "#Argumen dan Parameter\n",
    "def greet(nama, waktu):\n",
    "    print(\"Hai\", nama,\"selamat\", waktu,\"!\")\n",
    "greet(\"Rima\",\"Pagi\")\n",
    "greet(\"Budi\",\"Siang\")"
   ]
  },
  {
   "cell_type": "code",
   "execution_count": 18,
   "metadata": {},
   "outputs": [
    {
     "name": "stdout",
     "output_type": "stream",
     "text": [
      "42\n",
      "100\n"
     ]
    }
   ],
   "source": [
    "def sums(x,y):\n",
    "    x=x*y\n",
    "    print(x)\n",
    "sums(6,7)\n",
    "sums(10,10)"
   ]
  },
  {
   "cell_type": "code",
   "execution_count": 19,
   "metadata": {},
   "outputs": [
    {
     "data": {
      "text/plain": [
       "10"
      ]
     },
     "execution_count": 19,
     "metadata": {},
     "output_type": "execute_result"
    }
   ],
   "source": [
    "#Return\n",
    "def func():\n",
    "    return 7 + 3\n",
    "    print(\"Hallo\")\n",
    "func()"
   ]
  },
  {
   "cell_type": "code",
   "execution_count": 20,
   "metadata": {},
   "outputs": [
    {
     "name": "stdout",
     "output_type": "stream",
     "text": [
      "Hallo\n"
     ]
    },
    {
     "data": {
      "text/plain": [
       "10"
      ]
     },
     "execution_count": 20,
     "metadata": {},
     "output_type": "execute_result"
    }
   ],
   "source": [
    "#Return\n",
    "def func():\n",
    "    print(\"Hallo\")\n",
    "    return 7 + 3\n",
    "func()"
   ]
  },
  {
   "cell_type": "code",
   "execution_count": 2,
   "metadata": {},
   "outputs": [
    {
     "name": "stdout",
     "output_type": "stream",
     "text": [
      "Masukkan Angka: 4\n"
     ]
    },
    {
     "data": {
      "text/plain": [
       "40"
      ]
     },
     "execution_count": 2,
     "metadata": {},
     "output_type": "execute_result"
    }
   ],
   "source": [
    "number = int(input(\"Masukkan Angka: \"))\n",
    "\n",
    "def angka(x):\n",
    "    if x <= 5:\n",
    "        return x * 10\n",
    "    else:\n",
    "        return  x * 100\n",
    "angka(number)"
   ]
  },
  {
   "cell_type": "code",
   "execution_count": 3,
   "metadata": {},
   "outputs": [
    {
     "name": "stdout",
     "output_type": "stream",
     "text": [
      "Nama:  Rima \n",
      "Umur:  17\n"
     ]
    }
   ],
   "source": [
    "# Default Parameter\n",
    "\n",
    "# fungsi umur anak SMA\n",
    "def umur(nama, umur = '17'):\n",
    "    print(\"Nama: \", nama, \"\\nUmur: \", umur)\n",
    "umur(\"Rima\")"
   ]
  },
  {
   "cell_type": "code",
   "execution_count": 4,
   "metadata": {},
   "outputs": [
    {
     "name": "stdout",
     "output_type": "stream",
     "text": [
      "Nama:  Rima \n",
      "Umur: 30 \n",
      "Status: Lajang \n",
      "Pekerjaan: Data Saintist\n"
     ]
    }
   ],
   "source": [
    "# Keyword Parameter\n",
    "\n",
    "def user(nama, umur, status, pekerjaan):\n",
    "    print(\"Nama:\",nama, \"\\nUmur:\", umur, \"\\nStatus:\", status, \"\\nPekerjaan:\", pekerjaan)\n",
    "user(pekerjaan = \"Data Saintist\", umur = 30, status = \"Lajang\", nama = \" Rima\")"
   ]
  },
  {
   "cell_type": "code",
   "execution_count": 5,
   "metadata": {},
   "outputs": [
    {
     "name": "stdout",
     "output_type": "stream",
     "text": [
      "25\n"
     ]
    }
   ],
   "source": [
    "# Dictionary\n",
    "users = {'nama':\"Iqbal\", 'umur':\"25\"}\n",
    "print(users['umur'])"
   ]
  },
  {
   "cell_type": "code",
   "execution_count": 6,
   "metadata": {},
   "outputs": [
    {
     "name": "stdout",
     "output_type": "stream",
     "text": [
      "Rima\n",
      "Budi\n",
      "DLL\n"
     ]
    }
   ],
   "source": [
    "# *args & **kwargs\n",
    "def args(*nama):\n",
    "    for x in nama:\n",
    "        print(x)\n",
    "args(\"Rima\", \"Budi\", \"DLL\")"
   ]
  },
  {
   "cell_type": "code",
   "execution_count": 7,
   "metadata": {},
   "outputs": [
    {
     "name": "stdout",
     "output_type": "stream",
     "text": [
      "nama: Rima\n",
      "umur: 10\n",
      "Hobi: Main Bola\n",
      "\n",
      "nama: Roni\n",
      "umur: 20\n",
      "Hobi: Main Basket\n"
     ]
    }
   ],
   "source": [
    "# **kwargs\n",
    "def bio(**data):\n",
    "    for key, value in data.items():\n",
    "        print(key, value, sep=\": \")\n",
    "\n",
    "bio(nama = \"Rima\", umur = 10, Hobi = \"Main Bola\")\n",
    "print()\n",
    "bio(nama = \"Roni\", umur = 20, Hobi = \"Main Basket\")"
   ]
  },
  {
   "cell_type": "code",
   "execution_count": 8,
   "metadata": {},
   "outputs": [
    {
     "data": {
      "text/plain": [
       "5.0"
      ]
     },
     "execution_count": 8,
     "metadata": {},
     "output_type": "execute_result"
    }
   ],
   "source": [
    "# Lambda Function / Anonymous Function\n",
    "\n",
    "bagi = lambda x, y: x/y\n",
    "bagi(10, 2)"
   ]
  },
  {
   "cell_type": "code",
   "execution_count": 9,
   "metadata": {},
   "outputs": [
    {
     "name": "stdout",
     "output_type": "stream",
     "text": [
      "[10, 22, 36, 52, 70, 90, 112, 136, 162, 190, 220]\n"
     ]
    }
   ],
   "source": [
    "deret = [10, 11, 12, 13, 14, 15, 16, 17, 18, 19, 20]\n",
    "deret2 = [1, 2, 3, 4, 5, 6, 7, 8, 9, 10, 11]\n",
    "\n",
    "hitung = map (lambda x, y: x * y, deret, deret2)\n",
    "print(list(hitung))"
   ]
  },
  {
   "cell_type": "code",
   "execution_count": 10,
   "metadata": {},
   "outputs": [
    {
     "name": "stdout",
     "output_type": "stream",
     "text": [
      "Ini Global Scope\n",
      "Ini local scope\n"
     ]
    }
   ],
   "source": [
    "# Local and Global Scope\n",
    "globalscope = \"Ini Global Scope\"\n",
    "def gs():\n",
    "    localscope = \"Ini local scope\"\n",
    "    print(globalscope)\n",
    "    print(localscope)\n",
    "gs()"
   ]
  },
  {
   "cell_type": "code",
   "execution_count": 11,
   "metadata": {},
   "outputs": [
    {
     "name": "stdout",
     "output_type": "stream",
     "text": [
      "3.141592653589793\n"
     ]
    }
   ],
   "source": [
    "# module\n",
    "import math as matematika\n",
    "\n",
    "pi = matematika.pi\n",
    "print(pi)"
   ]
  },
  {
   "cell_type": "code",
   "execution_count": 15,
   "metadata": {},
   "outputs": [
    {
     "name": "stdout",
     "output_type": "stream",
     "text": [
      "5\n"
     ]
    }
   ],
   "source": [
    "akar = matematika.sqrt(25)\n",
    "print(int(akar))"
   ]
  },
  {
   "cell_type": "code",
   "execution_count": 16,
   "metadata": {},
   "outputs": [
    {
     "name": "stdout",
     "output_type": "stream",
     "text": [
      "win32\n"
     ]
    }
   ],
   "source": [
    "import sys\n",
    "print(sys.platform)"
   ]
  },
  {
   "cell_type": "code",
   "execution_count": 17,
   "metadata": {},
   "outputs": [
    {
     "name": "stdout",
     "output_type": "stream",
     "text": [
      "time.struct_time(tm_year=2020, tm_mon=11, tm_mday=14, tm_hour=16, tm_min=7, tm_sec=52, tm_wday=5, tm_yday=319, tm_isdst=0)\n"
     ]
    }
   ],
   "source": [
    "import time\n",
    "\n",
    "print(time.localtime())"
   ]
  }
 ],
 "metadata": {
  "kernelspec": {
   "display_name": "Python 3",
   "language": "python",
   "name": "python3"
  },
  "language_info": {
   "codemirror_mode": {
    "name": "ipython",
    "version": 3
   },
   "file_extension": ".py",
   "mimetype": "text/x-python",
   "name": "python",
   "nbconvert_exporter": "python",
   "pygments_lexer": "ipython3",
   "version": "3.9.0"
  }
 },
 "nbformat": 4,
 "nbformat_minor": 4
}