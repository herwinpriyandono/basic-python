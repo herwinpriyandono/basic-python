{
 "cells": [
  {
   "cell_type": "markdown",
   "metadata": {},
   "source": [
    "## Penggabungan Kondisi"
   ]
  },
  {
   "cell_type": "markdown",
   "metadata": {},
   "source": [
    "## AND"
   ]
  },
  {
   "cell_type": "code",
   "execution_count": null,
   "metadata": {},
   "outputs": [],
   "source": []
  },
  {
   "cell_type": "code",
   "execution_count": 4,
   "metadata": {},
   "outputs": [
    {
     "name": "stdout",
     "output_type": "stream",
     "text": [
      "Pukul berapa sekarang?9\n",
      "Selamat pagi!\n"
     ]
    }
   ],
   "source": [
    "# Input Jam\n",
    "jam = int(input(\"Pukul berapa sekarang?\"))\n",
    "\n",
    "#Kondisi\n",
    "if jam >= 5 and jam <= 11:\n",
    "    print(\"Selamat pagi!\")\n",
    "elif jam > 11 and jam <= 15:\n",
    "    print(\"Selamat siang!\")\n",
    "elif jam > 15 and jam <= 18:\n",
    "    print(\"Selamat sore!\")\n",
    "else:\n",
    "    print(\"Selamat malam!\")\n",
    "\n",
    "    "
   ]
  },
  {
   "cell_type": "code",
   "execution_count": 9,
   "metadata": {},
   "outputs": [
    {
     "name": "stdout",
     "output_type": "stream",
     "text": [
      "Halo\n"
     ]
    }
   ],
   "source": [
    "#shorthand AND\n",
    "\n",
    "angka = 5\n",
    "if 4 < angka < 6:\n",
    "    print(\"Halo\")\n",
    "else:\n",
    "    print(\"Else\")"
   ]
  },
  {
   "cell_type": "markdown",
   "metadata": {},
   "source": [
    "## OR"
   ]
  },
  {
   "cell_type": "code",
   "execution_count": 10,
   "metadata": {},
   "outputs": [
    {
     "name": "stdout",
     "output_type": "stream",
     "text": [
      "Benar\n"
     ]
    }
   ],
   "source": [
    "#TRUE w/ TRUE\n",
    "if 6<7 or 8<9:\n",
    "    print(\"Benar\")"
   ]
  },
  {
   "cell_type": "code",
   "execution_count": 12,
   "metadata": {},
   "outputs": [
    {
     "name": "stdout",
     "output_type": "stream",
     "text": [
      "Salah satu benar\n"
     ]
    }
   ],
   "source": [
    "#TRUE w/ FALSE\n",
    "if 6<7 or 8<7:\n",
    "    print(\"Salah satu benar\")"
   ]
  },
  {
   "cell_type": "markdown",
   "metadata": {},
   "source": [
    "## NOT"
   ]
  },
  {
   "cell_type": "code",
   "execution_count": 14,
   "metadata": {},
   "outputs": [
    {
     "name": "stdout",
     "output_type": "stream",
     "text": [
      "Bukan sembilan\n"
     ]
    }
   ],
   "source": [
    "num =6\n",
    "if not(num ==9):\n",
    "    print(\"Bukan sembilan\")"
   ]
  },
  {
   "cell_type": "code",
   "execution_count": 15,
   "metadata": {},
   "outputs": [
    {
     "name": "stdout",
     "output_type": "stream",
     "text": [
      "True\n"
     ]
    }
   ],
   "source": [
    "x = False\n",
    "print(not x)"
   ]
  },
  {
   "cell_type": "code",
   "execution_count": 16,
   "metadata": {},
   "outputs": [
    {
     "name": "stdout",
     "output_type": "stream",
     "text": [
      "C ada di dalam list\n"
     ]
    }
   ],
   "source": [
    "li =['A','B','C']\n",
    "if ('C' not in li):\n",
    "    print(\"C tidak di dalam list\")\n",
    "else:\n",
    "    print(\"C ada di dalam list\")"
   ]
  },
  {
   "cell_type": "code",
   "execution_count": 18,
   "metadata": {},
   "outputs": [
    {
     "name": "stdout",
     "output_type": "stream",
     "text": [
      "Masukkan angka : 113\n",
      "113 tidak ada dalam list\n"
     ]
    }
   ],
   "source": [
    "masukkan = int(input(\"Masukkan angka : \"))\n",
    "li = [1,2,3,4,5,6,7,8,9,10]\n",
    "if (masukkan not in li):\n",
    "    print(masukkan,\"tidak ada dalam list\")\n",
    "else:\n",
    "    print(masukkan,\"ada di dalam list\")"
   ]
  },
  {
   "cell_type": "code",
   "execution_count": 20,
   "metadata": {},
   "outputs": [
    {
     "name": "stdout",
     "output_type": "stream",
     "text": [
      "8 adalah int\n"
     ]
    }
   ],
   "source": [
    "#is\n",
    "ank = 8\n",
    "if (type(ank) is int):\n",
    "    print(ank,\"adalah int\")\n",
    "else:\n",
    "    print(ank,\"bukan int\")"
   ]
  },
  {
   "cell_type": "markdown",
   "metadata": {},
   "source": [
    "## RANDOM"
   ]
  },
  {
   "cell_type": "code",
   "execution_count": 22,
   "metadata": {},
   "outputs": [
    {
     "name": "stdout",
     "output_type": "stream",
     "text": [
      "30\n"
     ]
    }
   ],
   "source": [
    "from random import randint\n",
    "print(randint(1,100))"
   ]
  },
  {
   "cell_type": "code",
   "execution_count": 27,
   "metadata": {},
   "outputs": [
    {
     "name": "stdout",
     "output_type": "stream",
     "text": [
      "87\n"
     ]
    }
   ],
   "source": [
    "from random import randrange\n",
    "print(randrange(1,100,2))"
   ]
  },
  {
   "cell_type": "markdown",
   "metadata": {},
   "source": [
    "## LIST"
   ]
  },
  {
   "cell_type": "code",
   "execution_count": 28,
   "metadata": {},
   "outputs": [
    {
     "name": "stdout",
     "output_type": "stream",
     "text": [
      "Bakso\n",
      "Bakmi\n",
      "['Bakso', 'Pizza', 'Hotdog']\n",
      "['Bakso', 'Pizza']\n"
     ]
    }
   ],
   "source": [
    "list_satu = ['Bakso','Pizza','Hotdog','Bakmi','Soto']\n",
    "#Memanggil salah satu value\n",
    "print(list_satu[0])\n",
    "print(list_satu[-2])\n",
    "print(list_satu[0:3])\n",
    "print(list_satu[:2])"
   ]
  },
  {
   "cell_type": "code",
   "execution_count": 29,
   "metadata": {},
   "outputs": [
    {
     "name": "stdout",
     "output_type": "stream",
     "text": [
      "Rendang\n",
      "Bika Ambon\n"
     ]
    }
   ],
   "source": [
    "#Mengedit value pada List\n",
    "list_satu[2]='Rendang'\n",
    "print(list_satu[2])\n",
    "list_satu[1]='Bika Ambon'\n",
    "print(list_satu[1])"
   ]
  },
  {
   "cell_type": "code",
   "execution_count": 31,
   "metadata": {},
   "outputs": [
    {
     "name": "stdout",
     "output_type": "stream",
     "text": [
      "['Bakso', 'Bika Ambon', 'Rendang', 'Bakmi', 'Soto', 'Sanjai']\n",
      "['Bakso', 'Bika Ambon', 'Rendang', 'Bakmi', 'Soto', 'Sanjai', 'Geprek']\n"
     ]
    }
   ],
   "source": [
    "#Menambahkan value pada List\n",
    "list_satu.append('Sanjai')\n",
    "print(list_satu)\n",
    "list_satu.append('Geprek')\n",
    "print(list_satu)"
   ]
  },
  {
   "cell_type": "code",
   "execution_count": 32,
   "metadata": {},
   "outputs": [
    {
     "name": "stdout",
     "output_type": "stream",
     "text": [
      "['Bakso', 'Bika Ambon', 'Rendang', 'Bakmi', 'Soto', 'Geprek']\n"
     ]
    }
   ],
   "source": [
    "#Menghapus value pada List\n",
    "del list_satu[5]\n",
    "print(list_satu)"
   ]
  },
  {
   "cell_type": "code",
   "execution_count": 34,
   "metadata": {},
   "outputs": [
    {
     "name": "stdout",
     "output_type": "stream",
     "text": [
      "Saya suka : Bakso\n",
      "Saya suka : Bika Ambon\n",
      "Saya suka : Rendang\n",
      "Saya suka : Bakmi\n",
      "Saya suka : Soto\n",
      "Saya suka : Geprek\n"
     ]
    }
   ],
   "source": [
    "#Looping List\n",
    "for makanan in list_satu:\n",
    "    print(\"Saya suka\",makanan, sep=' : ')"
   ]
  },
  {
   "cell_type": "markdown",
   "metadata": {},
   "source": [
    "## Dictionary"
   ]
  },
  {
   "cell_type": "code",
   "execution_count": 37,
   "metadata": {},
   "outputs": [
    {
     "name": "stdout",
     "output_type": "stream",
     "text": [
      "{'nama': 'Budiman', 'umur': '20', 'profesi': 'DevOps'}\n"
     ]
    }
   ],
   "source": [
    "bio = {'nama':'Budiman','umur':'20','profesi':'DevOps'}\n",
    "print(bio)"
   ]
  },
  {
   "cell_type": "code",
   "execution_count": 39,
   "metadata": {},
   "outputs": [
    {
     "name": "stdout",
     "output_type": "stream",
     "text": [
      "Budiman\n"
     ]
    }
   ],
   "source": [
    "print(bio['nama'])"
   ]
  },
  {
   "cell_type": "code",
   "execution_count": 41,
   "metadata": {},
   "outputs": [
    {
     "name": "stdout",
     "output_type": "stream",
     "text": [
      "nama : Budiman\n",
      "umur : 20\n",
      "profesi : DevOps\n"
     ]
    }
   ],
   "source": [
    "#Looping Dictionary\n",
    "for key, value in bio.items():\n",
    "    print(key,value, sep=' : ')"
   ]
  },
  {
   "cell_type": "code",
   "execution_count": 42,
   "metadata": {},
   "outputs": [
    {
     "name": "stdout",
     "output_type": "stream",
     "text": [
      "{'nama': 'Budiman', 'umur': '20', 'profesi': 'DevOps'}\n",
      "{'nama': 'Andika', 'umur': '26', 'profesi': 'SysAdmin'}\n",
      "{'nama': 'Candra', 'umur': '32', 'profesi': 'UI/UX'}\n"
     ]
    }
   ],
   "source": [
    "#Dictionary bercabang\n",
    "pelanggan = {\n",
    "    1:{\n",
    "        'nama':'Budiman', 'umur':'20', 'profesi':'DevOps'\n",
    "    },\n",
    "    2:{\n",
    "        'nama':'Andika', 'umur':'26', 'profesi':'SysAdmin'\n",
    "    },\n",
    "    3:{\n",
    "        'nama':'Candra', 'umur':'32', 'profesi':'UI/UX'\n",
    "    }\n",
    "}\n",
    "print(pelanggan[1])\n",
    "print(pelanggan[2])\n",
    "print(pelanggan[3])"
   ]
  },
  {
   "cell_type": "code",
   "execution_count": 43,
   "metadata": {},
   "outputs": [
    {
     "name": "stdout",
     "output_type": "stream",
     "text": [
      "1 : {'nama': 'Budiman', 'umur': '20', 'profesi': 'DevOps'}\n",
      "2 : {'nama': 'Andika', 'umur': '26', 'profesi': 'SysAdmin'}\n",
      "3 : {'nama': 'Candra', 'umur': '32', 'profesi': 'UI/UX'}\n"
     ]
    }
   ],
   "source": [
    "#Looping\n",
    "for key, value in pelanggan.items():\n",
    "    print(key,value, sep=' : ')"
   ]
  },
  {
   "cell_type": "code",
   "execution_count": 44,
   "metadata": {},
   "outputs": [
    {
     "name": "stdout",
     "output_type": "stream",
     "text": [
      "{'nama': 'Budiman', 'umur': '20', 'profesi': 'DevOps'}\n",
      "{'nama': 'Andika', 'umur': '26', 'profesi': 'SysAdmin'}\n",
      "{'nama': 'Candra', 'umur': '32', 'profesi': 'UI/UX'}\n"
     ]
    }
   ],
   "source": [
    "for key, value in pelanggan.items():\n",
    "    print(value)"
   ]
  },
  {
   "cell_type": "code",
   "execution_count": 51,
   "metadata": {},
   "outputs": [
    {
     "name": "stdout",
     "output_type": "stream",
     "text": [
      "Pelanggan ke 1\n",
      "nama : Budiman\n",
      "umur : 20\n",
      "profesi : DevOps\n",
      "\n",
      "Pelanggan ke 2\n",
      "nama : Andika\n",
      "umur : 26\n",
      "profesi : SysAdmin\n",
      "\n",
      "Pelanggan ke 3\n",
      "nama : Candra\n",
      "umur : 32\n",
      "profesi : UI/UX\n",
      "\n"
     ]
    }
   ],
   "source": [
    "for key, value in pelanggan.items():\n",
    "    print(\"Pelanggan ke\",key)\n",
    "    for key2 in value:\n",
    "         print(key2, value[key2], sep=' : ')\n",
    "    print()"
   ]
  },
  {
   "cell_type": "markdown",
   "metadata": {},
   "source": [
    "## Tupple"
   ]
  },
  {
   "cell_type": "code",
   "execution_count": 53,
   "metadata": {},
   "outputs": [
    {
     "name": "stdout",
     "output_type": "stream",
     "text": [
      "('Ikan', 'Beruang', 'Badak')\n",
      "<class 'tuple'>\n",
      "3\n"
     ]
    }
   ],
   "source": [
    "tup = ('Ikan','Beruang','Badak')\n",
    "print(tup)\n",
    "print(type(tup))\n",
    "print(len(tup))"
   ]
  },
  {
   "cell_type": "code",
   "execution_count": 56,
   "metadata": {},
   "outputs": [
    {
     "name": "stdout",
     "output_type": "stream",
     "text": [
      "['Ikan', 'Beruang', 'Badak']\n",
      "['Ikan', 'Buaya', 'Badak']\n",
      "('Ikan', 'Buaya', 'Badak')\n"
     ]
    }
   ],
   "source": [
    "#Covert\n",
    "tup_2 = list(tup)\n",
    "print(tup_2)\n",
    "tup_2[1] ='Buaya'\n",
    "print(tup_2)\n",
    "tup_3 = tuple(tup_2)\n",
    "print(tup_3)"
   ]
  },
  {
   "cell_type": "markdown",
   "metadata": {},
   "source": [
    "## Set"
   ]
  },
  {
   "cell_type": "code",
   "execution_count": 58,
   "metadata": {},
   "outputs": [
    {
     "name": "stdout",
     "output_type": "stream",
     "text": [
      "{'Berlin', 'Kairo', 'London'} <class 'set'>\n"
     ]
    }
   ],
   "source": [
    "set_satu = {'Berlin', 'Kairo','London'}\n",
    "print(set_satu, type(set_satu))"
   ]
  },
  {
   "cell_type": "code",
   "execution_count": 59,
   "metadata": {},
   "outputs": [
    {
     "ename": "TypeError",
     "evalue": "'set' object is not subscriptable",
     "output_type": "error",
     "traceback": [
      "\u001b[1;31m---------------------------------------------------------------------------\u001b[0m",
      "\u001b[1;31mTypeError\u001b[0m                                 Traceback (most recent call last)",
      "\u001b[1;32m<ipython-input-59-76e26ec1c376>\u001b[0m in \u001b[0;36m<module>\u001b[1;34m\u001b[0m\n\u001b[1;32m----> 1\u001b[1;33m \u001b[0mprint\u001b[0m\u001b[1;33m(\u001b[0m\u001b[0mset_satu\u001b[0m\u001b[1;33m[\u001b[0m\u001b[1;36m1\u001b[0m\u001b[1;33m]\u001b[0m\u001b[1;33m)\u001b[0m\u001b[1;33m\u001b[0m\u001b[1;33m\u001b[0m\u001b[0m\n\u001b[0m",
      "\u001b[1;31mTypeError\u001b[0m: 'set' object is not subscriptable"
     ]
    }
   ],
   "source": [
    "print(set_satu[1])"
   ]
  },
  {
   "cell_type": "code",
   "execution_count": 60,
   "metadata": {},
   "outputs": [
    {
     "name": "stdout",
     "output_type": "stream",
     "text": [
      "{1, 2, 3, 4, 5, 6}\n"
     ]
    }
   ],
   "source": [
    "set_angka = {1,2,2,3,3,4,5,6,5}\n",
    "print(set_angka)"
   ]
  },
  {
   "cell_type": "code",
   "execution_count": 61,
   "metadata": {},
   "outputs": [
    {
     "name": "stdout",
     "output_type": "stream",
     "text": [
      "{'Kairo', 'Tailin', 'Berlin', 'London', 'Yerevan'}\n"
     ]
    }
   ],
   "source": [
    "set_kota = {'Berlin', 'Kairo','Tailin','London','Yerevan','Berlin','Tailin'}\n",
    "print(set_kota)"
   ]
  },
  {
   "cell_type": "code",
   "execution_count": 63,
   "metadata": {},
   "outputs": [
    {
     "name": "stdout",
     "output_type": "stream",
     "text": [
      "{5, 6, 7, 8, 9, 10}\n",
      "{1, 2, 3, 4, 5, 6, 7, 8, 9, 10, 11, 12, 13, 14, 15, 16, 17}\n"
     ]
    }
   ],
   "source": [
    "set_angka1 = {1,2,3,4,5,6,7,8,9,10}\n",
    "set_angka2 = {5,6,7,8,9,10,11,12,13,14,15,16,17}\n",
    "print(set_angka1 & set_angka2)\n",
    "print(set_angka1 | set_angka2)"
   ]
  },
  {
   "cell_type": "code",
   "execution_count": null,
   "metadata": {},
   "outputs": [],
   "source": []
  },
  {
   "cell_type": "code",
   "execution_count": null,
   "metadata": {},
   "outputs": [],
   "source": []
  },
  {
   "cell_type": "code",
   "execution_count": null,
   "metadata": {},
   "outputs": [],
   "source": []
  },
  {
   "cell_type": "code",
   "execution_count": null,
   "metadata": {},
   "outputs": [],
   "source": []
  },
  {
   "cell_type": "code",
   "execution_count": null,
   "metadata": {},
   "outputs": [],
   "source": []
  },
  {
   "cell_type": "code",
   "execution_count": null,
   "metadata": {},
   "outputs": [],
   "source": []
  },
  {
   "cell_type": "code",
   "execution_count": null,
   "metadata": {},
   "outputs": [],
   "source": []
  },
  {
   "cell_type": "code",
   "execution_count": null,
   "metadata": {},
   "outputs": [],
   "source": []
  },
  {
   "cell_type": "code",
   "execution_count": null,
   "metadata": {},
   "outputs": [],
   "source": []
  },
  {
   "cell_type": "code",
   "execution_count": null,
   "metadata": {},
   "outputs": [],
   "source": []
  },
  {
   "cell_type": "code",
   "execution_count": null,
   "metadata": {},
   "outputs": [],
   "source": []
  },
  {
   "cell_type": "code",
   "execution_count": null,
   "metadata": {},
   "outputs": [],
   "source": []
  },
  {
   "cell_type": "code",
   "execution_count": null,
   "metadata": {},
   "outputs": [],
   "source": []
  },
  {
   "cell_type": "code",
   "execution_count": null,
   "metadata": {},
   "outputs": [],
   "source": []
  },
  {
   "cell_type": "code",
   "execution_count": null,
   "metadata": {},
   "outputs": [],
   "source": []
  },
  {
   "cell_type": "code",
   "execution_count": null,
   "metadata": {},
   "outputs": [],
   "source": []
  },
  {
   "cell_type": "code",
   "execution_count": null,
   "metadata": {},
   "outputs": [],
   "source": []
  },
  {
   "cell_type": "code",
   "execution_count": null,
   "metadata": {},
   "outputs": [],
   "source": []
  },
  {
   "cell_type": "code",
   "execution_count": null,
   "metadata": {},
   "outputs": [],
   "source": []
  },
  {
   "cell_type": "code",
   "execution_count": null,
   "metadata": {},
   "outputs": [],
   "source": []
  },
  {
   "cell_type": "code",
   "execution_count": null,
   "metadata": {},
   "outputs": [],
   "source": []
  },
  {
   "cell_type": "code",
   "execution_count": null,
   "metadata": {},
   "outputs": [],
   "source": []
  },
  {
   "cell_type": "code",
   "execution_count": null,
   "metadata": {},
   "outputs": [],
   "source": []
  },
  {
   "cell_type": "code",
   "execution_count": null,
   "metadata": {},
   "outputs": [],
   "source": []
  },
  {
   "cell_type": "code",
   "execution_count": null,
   "metadata": {},
   "outputs": [],
   "source": []
  },
  {
   "cell_type": "code",
   "execution_count": null,
   "metadata": {},
   "outputs": [],
   "source": []
  },
  {
   "cell_type": "code",
   "execution_count": null,
   "metadata": {},
   "outputs": [],
   "source": []
  },
  {
   "cell_type": "code",
   "execution_count": null,
   "metadata": {},
   "outputs": [],
   "source": []
  },
  {
   "cell_type": "code",
   "execution_count": null,
   "metadata": {},
   "outputs": [],
   "source": []
  },
  {
   "cell_type": "code",
   "execution_count": null,
   "metadata": {},
   "outputs": [],
   "source": []
  },
  {
   "cell_type": "code",
   "execution_count": null,
   "metadata": {},
   "outputs": [],
   "source": []
  },
  {
   "cell_type": "code",
   "execution_count": null,
   "metadata": {},
   "outputs": [],
   "source": []
  },
  {
   "cell_type": "code",
   "execution_count": null,
   "metadata": {},
   "outputs": [],
   "source": []
  },
  {
   "cell_type": "code",
   "execution_count": null,
   "metadata": {},
   "outputs": [],
   "source": []
  },
  {
   "cell_type": "code",
   "execution_count": null,
   "metadata": {},
   "outputs": [],
   "source": []
  },
  {
   "cell_type": "code",
   "execution_count": null,
   "metadata": {},
   "outputs": [],
   "source": []
  }
 ],
 "metadata": {
  "kernelspec": {
   "display_name": "Python 3",
   "language": "python",
   "name": "python3"
  },
  "language_info": {
   "codemirror_mode": {
    "name": "ipython",
    "version": 3
   },
   "file_extension": ".py",
   "mimetype": "text/x-python",
   "name": "python",
   "nbconvert_exporter": "python",
   "pygments_lexer": "ipython3",
   "version": "3.9.0"
  }
 },
 "nbformat": 4,
 "nbformat_minor": 4
}
