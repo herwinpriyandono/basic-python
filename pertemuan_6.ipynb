{
 "cells": [
  {
   "cell_type": "markdown",
   "metadata": {},
   "source": [
    "## Class"
   ]
  },
  {
   "cell_type": "code",
   "execution_count": 33,
   "metadata": {},
   "outputs": [
    {
     "name": "stdout",
     "output_type": "stream",
     "text": [
      "Namanya adalah Neymar\n",
      "Powernya adalah 40\n",
      "Umurnya adalah 90\n",
      "Nomor punggungnya adalah 20\n",
      "Kewarganegaraannya adalah tidak jelas\n"
     ]
    }
   ],
   "source": [
    "class Pemain: #class\n",
    "    nama = ''  #attribute\n",
    "    umur = ''\n",
    "    power = ''\n",
    "    no_punggung = ''\n",
    "    \n",
    "    def __init__(self,nama2,umur2,power2,no_punggung2):  #method with parameter\n",
    "        self.nama = nama2\n",
    "        self.umur = umur2\n",
    "        self.power = power2\n",
    "        self.no_punggung = no_punggung2\n",
    "        \n",
    "    def getName(self):\n",
    "        return \"Namanya adalah \" + self.nama\n",
    "\n",
    "    def getUmur(self):\n",
    "        return \"Powernya adalah \" + self.umur\n",
    "    \n",
    "    def getPower(self):\n",
    "        return \"Umurnya adalah \" + self.power\n",
    "    \n",
    "    def getNoPunggung(self):\n",
    "        return \"Nomor punggungnya adalah \" + self.no_punggung\n",
    "    \n",
    "    def getCitizen(self, citizen):\n",
    "        return \"Kewarganegaraannya adalah \" + citizen\n",
    "    \n",
    "pemain = Pemain('Neymar','40','90','20')\n",
    "print(pemain.getName())\n",
    "print(pemain.getUmur())\n",
    "print(pemain.getPower())\n",
    "print(pemain.getNoPunggung())\n",
    "print(pemain.getCitizen('tidak jelas'))"
   ]
  },
  {
   "cell_type": "markdown",
   "metadata": {},
   "source": [
    "## Inheritance"
   ]
  },
  {
   "cell_type": "code",
   "execution_count": 15,
   "metadata": {},
   "outputs": [
    {
     "name": "stdout",
     "output_type": "stream",
     "text": [
      "Namanya adalah Boaz Powernya adalah 95 Dia orang Indonesia\n"
     ]
    }
   ],
   "source": [
    "#class IndoPlayer(Pemain):\n",
    "#    ctzn = ''\n",
    "#    def getCitizen(self, ctzn):\n",
    "#        return \"Dia orang \" + ctzn\n",
    "    \n",
    "\n",
    "#indPlayer = IndoPlayer('Boaz','35','95','10')\n",
    "#print(indPlayer.getName(), indPlayer.getPower(), indPlayer.getCitizen('Indonesia'))\n"
   ]
  },
  {
   "cell_type": "code",
   "execution_count": 36,
   "metadata": {},
   "outputs": [
    {
     "name": "stdout",
     "output_type": "stream",
     "text": [
      "Boaz\n",
      "Namanya adalah Boaz\n",
      "Warga Indonesia\n",
      "Dari provinsi Irian\n"
     ]
    }
   ],
   "source": [
    "class IndoPlayer(Pemain):\n",
    "    ctzn = ''\n",
    "    provinsi = ''\n",
    "    def __init__(self, nama, umur, power, no_punggung, ctzn2, provinsi2):\n",
    "        super().__init__(nama, umur, power, no_punggung)\n",
    "        self.ctzn = ctzn2\n",
    "        self.provinsi = provinsi2\n",
    "\n",
    "    def getCitizen(self):\n",
    "        return \"Warga \" + self.ctzn\n",
    "    \n",
    "    def getProvinsi(self):\n",
    "         return \"Dari provinsi \" + self.provinsi\n",
    "        \n",
    "    def getKlub(self):\n",
    "        pass\n",
    "\n",
    "ind = IndoPlayer('Boaz','35','95','10','Indonesia','Irian')\n",
    "print(ind.nama)\n",
    "print(ind.getName())\n",
    "print(ind.getCitizen())\n",
    "print(ind.getProvinsi())"
   ]
  },
  {
   "cell_type": "code",
   "execution_count": 40,
   "metadata": {},
   "outputs": [
    {
     "name": "stdout",
     "output_type": "stream",
     "text": [
      "Jika dikalikan : 360, Jika dibagi : 0.4, Jika ditambahkan : 42, Jika dikurangkan : -18\n"
     ]
    }
   ],
   "source": [
    "class OperasiBilangan:\n",
    "    pertama = ''\n",
    "    kedua = ''\n",
    "    \n",
    "    def __init__(self, satu, dua):\n",
    "        self.pertama = satu\n",
    "        self.kedua = dua\n",
    "        \n",
    "    def getTambah(self):\n",
    "        return self.pertama + self.kedua\n",
    "    \n",
    "    def getKali(self):\n",
    "        return self.pertama * self.kedua\n",
    "    \n",
    "    def getBagi(self):\n",
    "        return self.pertama / self.kedua\n",
    "\n",
    "    def getKurang(self):\n",
    "        return self.pertama - self.kedua\n",
    "\n",
    "ob = OperasiBilangan(12,30)\n",
    "print('Jika dikalikan : {}, Jika dibagi : {}, Jika ditambahkan : {}, Jika dikurangkan : {}'.format(ob.getKali(), ob.getBagi(), ob.getTambah(),ob.getKurang()))\n",
    "        \n",
    "    "
   ]
  }
 ],
 "metadata": {
  "kernelspec": {
   "display_name": "Python 3",
   "language": "python",
   "name": "python3"
  },
  "language_info": {
   "codemirror_mode": {
    "name": "ipython",
    "version": 3
   },
   "file_extension": ".py",
   "mimetype": "text/x-python",
   "name": "python",
   "nbconvert_exporter": "python",
   "pygments_lexer": "ipython3",
   "version": "3.9.0"
  }
 },
 "nbformat": 4,
 "nbformat_minor": 4
}