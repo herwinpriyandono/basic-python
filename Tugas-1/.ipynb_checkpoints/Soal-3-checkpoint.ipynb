{
 "cells": [
  {
   "cell_type": "code",
   "execution_count": 6,
   "metadata": {},
   "outputs": [
    {
     "name": "stdout",
     "output_type": "stream",
     "text": [
      "Nilai ujian teori : 69\n",
      "Nilai ujian praktek : 69\n",
      "Anda harus mengulang ujian teori dan praktek.\n"
     ]
    }
   ],
   "source": [
    "teori = int(input(\"Nilai ujian teori : \"))\n",
    "praktek = int(input(\"Nilai ujian praktek : \"))\n",
    "if teori>=70 :\n",
    "    if praktek>=70:\n",
    "        print(\"Selamat, anda lulus!\")\n",
    "    else :\n",
    "        print(\"Anda harus mengulang ujian praktek.\")\n",
    "else :\n",
    "    if praktek>=70:\n",
    "        print(\"Anda harus mengulang ujian teori\")\n",
    "    else :\n",
    "        print(\"Anda harus mengulang ujian teori dan praktek.\")\n"
   ]
  },
  {
   "cell_type": "code",
   "execution_count": null,
   "metadata": {},
   "outputs": [],
   "source": []
  },
  {
   "cell_type": "code",
   "execution_count": null,
   "metadata": {},
   "outputs": [],
   "source": []
  },
  {
   "cell_type": "code",
   "execution_count": null,
   "metadata": {},
   "outputs": [],
   "source": []
  },
  {
   "cell_type": "code",
   "execution_count": null,
   "metadata": {},
   "outputs": [],
   "source": []
  },
  {
   "cell_type": "code",
   "execution_count": null,
   "metadata": {},
   "outputs": [],
   "source": []
  },
  {
   "cell_type": "code",
   "execution_count": null,
   "metadata": {},
   "outputs": [],
   "source": []
  }
 ],
 "metadata": {
  "kernelspec": {
   "display_name": "Python 3",
   "language": "python",
   "name": "python3"
  },
  "language_info": {
   "codemirror_mode": {
    "name": "ipython",
    "version": 3
   },
   "file_extension": ".py",
   "mimetype": "text/x-python",
   "name": "python",
   "nbconvert_exporter": "python",
   "pygments_lexer": "ipython3",
   "version": "3.9.0"
  }
 },
 "nbformat": 4,
 "nbformat_minor": 4
}
